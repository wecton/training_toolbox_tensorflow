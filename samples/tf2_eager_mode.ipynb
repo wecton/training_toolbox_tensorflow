{
 "cells": [
  {
   "cell_type": "code",
   "execution_count": 1,
   "metadata": {},
   "outputs": [],
   "source": [
    "from __future__ import absolute_import, division, print_function, unicode_literals\n",
    "import matplotlib.pyplot as plt\n",
    "import numpy as np\n",
    "import tensorflow as tf\n",
    "\n",
    "tf.compat.v1.enable_eager_execution()"
   ]
  },
  {
   "cell_type": "code",
   "execution_count": 2,
   "metadata": {},
   "outputs": [
    {
     "data": {
      "text/plain": [
       "[<matplotlib.lines.Line2D at 0x7f93a108dac8>]"
      ]
     },
     "execution_count": 2,
     "metadata": {},
     "output_type": "execute_result"
    },
    {
     "data": {
      "image/png": "[encoded data removed]",
      "text/plain": [
       "<Figure size 432x288 with 1 Axes>"
      ]
     },
     "metadata": {
      "needs_background": "light"
     },
     "output_type": "display_data"
    }
   ],
   "source": [
    "np.random.seed(666)\n",
    "\n",
    "x = np.arange(0, 10, 0.3)\n",
    "y = 3 * x - 20\n",
    "errors = np.random.normal(0, 1.5, y.shape[0])\n",
    "\n",
    "y_real = y + errors\n",
    "\n",
    "plt.plot(x, y_real, 'bo')\n",
    "plt.plot(x, y)"
   ]
  },
  {
   "cell_type": "code",
   "execution_count": 3,
   "metadata": {},
   "outputs": [
    {
     "name": "stdout",
     "output_type": "stream",
     "text": [
      "error = 3543.400634765625, 0.0 * x + 0.0\n",
      "error = 1280.303466796875, 1.1848968267440796 * x + -8.0704345703125\n",
      "error = 484.72320556640625, 1.904399037361145 * x + -12.85396671295166\n",
      "error = 204.92381286621094, 2.331089735031128 * x + -15.690773010253906\n",
      "error = 106.5199966430664, 2.584134101867676 * x + -17.373111724853516\n",
      "error = 71.91244506835938, 2.7341973781585693 * x + -18.370790481567383\n",
      "error = 59.74115753173828, 2.823190450668335 * x + -18.962451934814453\n",
      "error = 55.460548400878906, 2.8759677410125732 * x + -19.313335418701172\n",
      "error = 53.95512008666992, 2.9072654247283936 * x + -19.52141571044922\n",
      "error = 53.4256477355957, 2.9258265495300293 * x + -19.644817352294922\n",
      "error = 53.23944091796875, 2.9368338584899902 * x + -19.717998504638672\n",
      "error = 53.17396926879883, 2.943361282348633 * x + -19.761396408081055\n",
      "error = 53.15092468261719, 2.947232723236084 * x + -19.787134170532227\n",
      "error = 53.14282989501953, 2.9495279788970947 * x + -19.802392959594727\n",
      "error = 53.13997268676758, 2.950890302658081 * x + -19.811450958251953\n",
      "error = 53.13898468017578, 2.9516971111297607 * x + -19.816814422607422\n",
      "error = 53.13863754272461, 2.952176094055176 * x + -19.81999969482422\n",
      "error = 53.13850784301758, 2.952460289001465 * x + -19.821889877319336\n",
      "error = 53.138465881347656, 2.952629327774048 * x + -19.82301139831543\n",
      "error = 53.13844680786133, 2.952728271484375 * x + -19.823671340942383\n"
     ]
    }
   ],
   "source": [
    "a = tf.Variable(initial_value=0, dtype=tf.float32)\n",
    "b = tf.Variable(initial_value=0, dtype=tf.float32)\n",
    "\n",
    "optimizer = tf.compat.v1.train.GradientDescentOptimizer(learning_rate=0.0003)\n",
    "\n",
    "for i in range(2000):\n",
    "    with tf.GradientTape() as tape:\n",
    "        error = tf.reduce_sum((a * x + b - y_real) ** 2)\n",
    "        \n",
    "    if i % 100 == 0:\n",
    "        print('error = {}, {} * x + {}'.format(error, a.numpy(), b.numpy()))  \n",
    "\n",
    "    grads = tape.gradient(error, [a, b])\n",
    "    \n",
    "    optimizer.apply_gradients(zip(grads, [a, b]),\n",
    "                                global_step=tf.compat.v1.train.get_or_create_global_step())"
   ]
  }
 ],
 "metadata": {
  "kernelspec": {
   "display_name": "Python 3",
   "language": "python",
   "name": "python3"
  },
  "language_info": {
   "codemirror_mode": {
    "name": "ipython",
    "version": 3
   },
   "file_extension": ".py",
   "mimetype": "text/x-python",
   "name": "python",
   "nbconvert_exporter": "python",
   "pygments_lexer": "ipython3",
   "version": "3.6.7"
  }
 },
 "nbformat": 4,
 "nbformat_minor": 2
}
